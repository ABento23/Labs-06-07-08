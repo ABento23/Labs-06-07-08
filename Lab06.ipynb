{
 "cells": [
  {
   "cell_type": "code",
   "execution_count": 8,
   "metadata": {},
   "outputs": [],
   "source": [
    "# NVP\n",
    "\n",
    "CFs = [-50, 10, 20, 20, 20, 20]\n",
    "r = 0.05"
   ]
  },
  {
   "cell_type": "code",
   "execution_count": 9,
   "metadata": {},
   "outputs": [
    {
     "data": {
      "text/plain": [
       "27.065723888806858"
      ]
     },
     "execution_count": 9,
     "metadata": {},
     "output_type": "execute_result"
    }
   ],
   "source": [
    "npv = 0\n",
    "\n",
    "for i,v in list(enumerate(CFs)):\n",
    "    npv += v / (1+r)**i\n",
    "    #print(npv)\n",
    "npv"
   ]
  },
  {
   "cell_type": "code",
   "execution_count": 11,
   "metadata": {},
   "outputs": [
    {
     "data": {
      "text/plain": [
       "27.065723888806858"
      ]
     },
     "execution_count": 11,
     "metadata": {},
     "output_type": "execute_result"
    }
   ],
   "source": [
    "# NPV function\n",
    "\n",
    "def NPV(CF,ir):\n",
    "    result = 0\n",
    "    for i,v in list(enumerate(CF)):\n",
    "        result += v / (1+ir)**i\n",
    "    return result\n",
    "NPV(CFs,r)"
   ]
  },
  {
   "cell_type": "code",
   "execution_count": 12,
   "metadata": {},
   "outputs": [
    {
     "data": {
      "text/plain": [
       "0.21213339500557904"
      ]
     },
     "execution_count": 12,
     "metadata": {},
     "output_type": "execute_result"
    }
   ],
   "source": [
    "# IRR\n",
    "import numpy_financial as npf\n",
    "def IRR(CF):\n",
    "    return npf.irr(CF)\n",
    "IRR(CFs)"
   ]
  },
  {
   "cell_type": "code",
   "execution_count": 13,
   "metadata": {},
   "outputs": [
    {
     "name": "stdout",
     "output_type": "stream",
     "text": [
      "3\n",
      "4\n"
     ]
    }
   ],
   "source": [
    "# Payback Peridod\n",
    "\n",
    "def PBP(CF):\n",
    "    pbp = 0\n",
    "    lnpv = CF[0]\n",
    "    while lnpv < 0:\n",
    "        pbp += 1\n",
    "        lnpv += CF[pbp]\n",
    "    return pbp\n",
    "print(PBP(CFs))\n",
    "\n",
    "#  Discounted PBP\n",
    "def DPBP(CF,ir):\n",
    "    dpbp = 0\n",
    "    lnpv = CF[0]\n",
    "    while lnpv < 0:\n",
    "        dpbp += 1\n",
    "        lnpv += CF[dpbp] / (1+ir)**dpbp\n",
    "    return dpbp\n",
    "print(DPBP(CFs,r))"
   ]
  },
  {
   "cell_type": "code",
   "execution_count": null,
   "metadata": {},
   "outputs": [],
   "source": []
  }
 ],
 "metadata": {
  "kernelspec": {
   "display_name": "Python 3",
   "language": "python",
   "name": "python3"
  },
  "language_info": {
   "codemirror_mode": {
    "name": "ipython",
    "version": 3
   },
   "file_extension": ".py",
   "mimetype": "text/x-python",
   "name": "python",
   "nbconvert_exporter": "python",
   "pygments_lexer": "ipython3",
   "version": "3.8.1"
  }
 },
 "nbformat": 4,
 "nbformat_minor": 4
}
