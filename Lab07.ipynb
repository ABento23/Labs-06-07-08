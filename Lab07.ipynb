{
 "cells": [
  {
   "cell_type": "markdown",
   "metadata": {},
   "source": [
    "# Lab 7 \n",
    "\n",
    "A simple chatbot\n",
    "\n",
    "**1.** Create a function that asks the user his name and says Hello, John Doe\n",
    "\n",
    "**2.** Create a function called chat that ask the user what is his problem and will answer \"yes of course\"\n",
    "\n",
    "**3.** Create a function called chat that ask the user what is his problem and will answer randomly among 6 possible answers\n",
    "\n",
    "**4.** Put all together and improve\n"
   ]
  },
  {
   "cell_type": "markdown",
   "metadata": {},
   "source": [
    "**1.** Create a function that ask the user his name and says Hello, John Doe"
   ]
  },
  {
   "cell_type": "code",
   "execution_count": 8,
   "metadata": {},
   "outputs": [
    {
     "name": "stdout",
     "output_type": "stream",
     "text": [
      "Computer: What is your name?\n",
      "User: sdf\n",
      "Computer: Hello, John Doe\n"
     ]
    }
   ],
   "source": [
    "# Create a function that ask the user his name and says Hello, John Doe\n",
    "\n",
    "def askname():\n",
    "    name = input('Computer: What is your name?\\nUser: ')\n",
    "    print('Computer: Hello, John Doe')\n",
    "askname()"
   ]
  },
  {
   "cell_type": "markdown",
   "metadata": {},
   "source": [
    "**2.** Create a function called chat that ask the user what is his problem and will answer \"yes of course\""
   ]
  },
  {
   "cell_type": "code",
   "execution_count": 9,
   "metadata": {},
   "outputs": [
    {
     "name": "stdout",
     "output_type": "stream",
     "text": [
      "Computer: What is the problem?\n",
      "User: life\n",
      "Computer: Yes, of course\n"
     ]
    }
   ],
   "source": [
    "# Create a function called chat that ask the user what is his problem and will answer \"yes of course\"\n",
    "\n",
    "def chat1():\n",
    "    problem = input('Computer: What is the problem?\\nUser: ')\n",
    "    print('Computer: Yes, of course')\n",
    "chat1()"
   ]
  },
  {
   "cell_type": "markdown",
   "metadata": {},
   "source": [
    "**3.** Create a function called chat that ask the user what is his problem and will answer randomly among 6 possible answers"
   ]
  },
  {
   "cell_type": "code",
   "execution_count": 14,
   "metadata": {},
   "outputs": [
    {
     "name": "stdout",
     "output_type": "stream",
     "text": [
      "Computer: What is the problem?\n",
      "User: you\n",
      "Computer: it's a lovely eavening\n"
     ]
    }
   ],
   "source": [
    "# Create a function called chat that ask the user what is his problem and will answer randomly among 6 possible answers\n",
    "\n",
    "import random\n",
    "\n",
    "def chat():\n",
    "    answers = ['please try again','it\\'s a lovely eavening','good morning',\n",
    "               'hydrate!','i like pancaques','404 error not found']\n",
    "    problem = input('Computer: What is the problem?\\nUser: ')\n",
    "    print('Computer:',random.choice(answers))\n",
    "    return problem\n",
    "problem = chat()"
   ]
  },
  {
   "cell_type": "markdown",
   "metadata": {},
   "source": [
    "**4.** Put all together and improve"
   ]
  },
  {
   "cell_type": "code",
   "execution_count": 15,
   "metadata": {},
   "outputs": [
    {
     "name": "stdout",
     "output_type": "stream",
     "text": [
      "Computer: What is your name?\n",
      "User: andre\n",
      "Computer: Hello, John Doe\n",
      "Computer: What is the problem?\n",
      "User: you\n",
      "Computer: it's a lovely eavening\n",
      "Computer: What is the problem?\n",
      "User: stop\n",
      "Computer: please try again\n",
      "Computer: What is the problem?\n",
      "User: stop talking\n",
      "Computer: it's a lovely eavening\n"
     ]
    }
   ],
   "source": [
    "def chatbot():\n",
    "    askname()\n",
    "    problem = ''\n",
    "    while problem !='stop talking':\n",
    "        problem = chat()\n",
    "chatbot()"
   ]
  },
  {
   "cell_type": "code",
   "execution_count": null,
   "metadata": {},
   "outputs": [],
   "source": []
  }
 ],
 "metadata": {
  "kernelspec": {
   "display_name": "Python 3",
   "language": "python",
   "name": "python3"
  },
  "language_info": {
   "codemirror_mode": {
    "name": "ipython",
    "version": 3
   },
   "file_extension": ".py",
   "mimetype": "text/x-python",
   "name": "python",
   "nbconvert_exporter": "python",
   "pygments_lexer": "ipython3",
   "version": "3.8.1"
  }
 },
 "nbformat": 4,
 "nbformat_minor": 2
}
